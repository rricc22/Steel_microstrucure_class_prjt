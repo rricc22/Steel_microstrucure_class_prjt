{
 "cells": [
  {
   "cell_type": "code",
   "execution_count": 1,
   "metadata": {},
   "outputs": [
    {
     "name": "stderr",
     "output_type": "stream",
     "text": [
      "2024-03-18 18:32:54.127395: I tensorflow/stream_executor/platform/default/dso_loader.cc:53] Successfully opened dynamic library libcudart.so.11.0\n"
     ]
    }
   ],
   "source": [
    "import numpy as np\n",
    "import tensorflow as tf\n",
    "import matplotlib.pyplot as plt\n",
    "import pandas as pd\n",
    "import seaborn as sns\n",
    "import os\n",
    "from tqdm import tqdm\n",
    "from sklearn.preprocessing import MinMaxScaler"
   ]
  },
  {
   "cell_type": "code",
   "execution_count": 2,
   "metadata": {},
   "outputs": [],
   "source": [
    "base_dir = 'Dataset_Structures_modes/ImageDataGen_825_cleaned'\n",
    "train_raw_path = os.path.join(base_dir,'train' )\n",
    "validation_raw_path = os.path.join(base_dir,'val' )\n",
    "test_raw_path = os.path.join(base_dir,'test' )"
   ]
  },
  {
   "cell_type": "code",
   "execution_count": 3,
   "metadata": {},
   "outputs": [],
   "source": [
    "def preprocess_image_grayscale(img):\n",
    "    \"\"\"Convertit une image RGB en niveaux de gris et la duplique sur 3 canaux.\"\"\"\n",
    "    img = tf.image.rgb_to_grayscale(img)\n",
    "    img = tf.image.grayscale_to_rgb(img)\n",
    "    return img"
   ]
  },
  {
   "cell_type": "code",
   "execution_count": 4,
   "metadata": {},
   "outputs": [],
   "source": [
    "from tensorflow.keras.preprocessing.image import ImageDataGenerator"
   ]
  },
  {
   "cell_type": "raw",
   "metadata": {},
   "source": [
    "train_datagen = ImageDataGenerator()\n",
    "validation_datagen = ImageDataGenerator()\n",
    "test_datagen = ImageDataGenerator()"
   ]
  },
  {
   "cell_type": "code",
   "execution_count": 5,
   "metadata": {},
   "outputs": [],
   "source": [
    "train_datagen = ImageDataGenerator(preprocessing_function=preprocess_image_grayscale )\n",
    "validation_datagen = ImageDataGenerator(preprocessing_function=preprocess_image_grayscale )\n",
    "test_datagen = ImageDataGenerator(preprocessing_function=preprocess_image_grayscale )"
   ]
  },
  {
   "cell_type": "code",
   "execution_count": 6,
   "metadata": {},
   "outputs": [],
   "source": [
    "batch_size = 32"
   ]
  },
  {
   "cell_type": "code",
   "execution_count": 7,
   "metadata": {},
   "outputs": [
    {
     "name": "stdout",
     "output_type": "stream",
     "text": [
      "Found 740 images belonging to 2 classes.\n"
     ]
    }
   ],
   "source": [
    "train_generator = train_datagen.flow_from_directory(\n",
    "        train_raw_path,\n",
    "        target_size=(256, 256),\n",
    "        color_mode='rgb',  # Même si c'est en niveaux de gris, on charge comme RGB\n",
    "        batch_size=batch_size,\n",
    "        class_mode='binary')"
   ]
  },
  {
   "cell_type": "code",
   "execution_count": 8,
   "metadata": {},
   "outputs": [
    {
     "name": "stdout",
     "output_type": "stream",
     "text": [
      "Found 182 images belonging to 2 classes.\n"
     ]
    }
   ],
   "source": [
    "validation_generator = validation_datagen.flow_from_directory(\n",
    "        validation_raw_path,\n",
    "        target_size=(256, 256),\n",
    "        color_mode='rgb',  # Même si c'est en niveaux de gris, on charge comme RGB\n",
    "        batch_size=batch_size,\n",
    "        class_mode='binary')"
   ]
  },
  {
   "cell_type": "code",
   "execution_count": 9,
   "metadata": {},
   "outputs": [
    {
     "name": "stdout",
     "output_type": "stream",
     "text": [
      "Found 52 images belonging to 2 classes.\n"
     ]
    }
   ],
   "source": [
    "test_generator = validation_datagen.flow_from_directory(\n",
    "        test_raw_path,\n",
    "        target_size=(256, 256),\n",
    "        color_mode='rgb',  # Même si c'est en niveaux de gris, on charge comme RGB\n",
    "        batch_size=batch_size,\n",
    "        class_mode='binary')"
   ]
  },
  {
   "cell_type": "raw",
   "metadata": {},
   "source": [
    "import tensorflow as tf\n",
    "from tensorflow.keras import layers, models\n",
    "\n",
    "def build_model(input_shape=(256, 256, 3)):\n",
    "    \"\"\"\n",
    "    Construit un modèle CNN pour la classification d'images.\n",
    "    \n",
    "    Args:\n",
    "    - input_shape (tuple): La forme des images d'entrée (hauteur, largeur, canaux).\n",
    "    \n",
    "    Returns:\n",
    "    - Un modèle Keras compilé.\n",
    "    \"\"\"\n",
    "    model = models.Sequential([\n",
    "        # Première couche convolutive avec MaxPooling\n",
    "        layers.Conv2D(32, (3, 3), activation='relu', input_shape=input_shape),\n",
    "        layers.MaxPooling2D((2, 2)),\n",
    "        # Deuxième couche convolutive avec MaxPooling\n",
    "        layers.Conv2D(64, (3, 3), activation='relu'),\n",
    "        layers.MaxPooling2D((2, 2)),\n",
    "        # Troisième couche convolutive avec MaxPooling\n",
    "        layers.Conv2D(128, (3, 3), activation='relu'),\n",
    "        layers.MaxPooling2D((2, 2)),\n",
    "        # Quatrième couche convolutive avec MaxPooling\n",
    "        layers.Conv2D(128, (3, 3), activation='relu'),\n",
    "        layers.MaxPooling2D((2, 2)),\n",
    "        # Flattening suivi de couches Dense\n",
    "        layers.Flatten(),\n",
    "        layers.Dense(512, activation='relu'),\n",
    "        layers.Dense(256, activation='relu'),\n",
    "        layers.Dense(64, activation='relu'),\n",
    "        layers.Dense(2, activation='softmax')  # 2 classes\n",
    "    ])\n",
    "\n",
    "    # Compilation du modèle\n",
    "    model.compile(optimizer='adam',\n",
    "                  loss='sparse_categorical_crossentropy',\n",
    "                  metrics=['accuracy'])\n",
    "    \n",
    "    return model"
   ]
  },
  {
   "cell_type": "raw",
   "metadata": {},
   "source": [
    "# Création du modèle\n",
    "model = build_model()\n",
    "\n",
    "# Affichage du résumé du modèle\n",
    "model.summary()"
   ]
  },
  {
   "cell_type": "code",
   "execution_count": 10,
   "metadata": {},
   "outputs": [],
   "source": [
    "import tensorflow as tf\n",
    "from tensorflow.keras import layers, models\n",
    "from tensorflow.keras.applications import MobileNetV2\n",
    "from tensorflow.keras.preprocessing.image import ImageDataGenerator\n",
    "from tensorflow.keras.optimizers import Adam\n"
   ]
  },
  {
   "cell_type": "code",
   "execution_count": 11,
   "metadata": {},
   "outputs": [
    {
     "name": "stdout",
     "output_type": "stream",
     "text": [
      "WARNING:tensorflow:`input_shape` is undefined or non-square, or `rows` is not in [96, 128, 160, 192, 224]. Weights for input shape (224, 224) will be loaded as the default.\n"
     ]
    },
    {
     "name": "stderr",
     "output_type": "stream",
     "text": [
      "2024-03-18 18:32:56.638965: I tensorflow/stream_executor/platform/default/dso_loader.cc:53] Successfully opened dynamic library libcuda.so.1\n",
      "2024-03-18 18:32:56.674515: I tensorflow/stream_executor/cuda/cuda_gpu_executor.cc:937] successful NUMA node read from SysFS had negative value (-1), but there must be at least one NUMA node, so returning NUMA node zero\n",
      "2024-03-18 18:32:56.674662: I tensorflow/core/common_runtime/gpu/gpu_device.cc:1733] Found device 0 with properties: \n",
      "pciBusID: 0000:01:00.0 name: NVIDIA GeForce GTX 1060 6GB computeCapability: 6.1\n",
      "coreClock: 1.7335GHz coreCount: 10 deviceMemorySize: 5.93GiB deviceMemoryBandwidth: 178.99GiB/s\n",
      "2024-03-18 18:32:56.674689: I tensorflow/stream_executor/platform/default/dso_loader.cc:53] Successfully opened dynamic library libcudart.so.11.0\n",
      "2024-03-18 18:32:56.685642: I tensorflow/stream_executor/platform/default/dso_loader.cc:53] Successfully opened dynamic library libcublas.so.11\n",
      "2024-03-18 18:32:56.685775: I tensorflow/stream_executor/platform/default/dso_loader.cc:53] Successfully opened dynamic library libcublasLt.so.11\n",
      "2024-03-18 18:32:56.694042: I tensorflow/stream_executor/platform/default/dso_loader.cc:53] Successfully opened dynamic library libcufft.so.10\n",
      "2024-03-18 18:32:56.697488: I tensorflow/stream_executor/platform/default/dso_loader.cc:53] Successfully opened dynamic library libcurand.so.10\n",
      "2024-03-18 18:32:56.700746: I tensorflow/stream_executor/platform/default/dso_loader.cc:53] Successfully opened dynamic library libcusolver.so.11\n",
      "2024-03-18 18:32:56.703604: I tensorflow/stream_executor/platform/default/dso_loader.cc:53] Successfully opened dynamic library libcusparse.so.11\n",
      "2024-03-18 18:32:56.704931: I tensorflow/stream_executor/platform/default/dso_loader.cc:53] Successfully opened dynamic library libcudnn.so.8\n",
      "2024-03-18 18:32:56.705099: I tensorflow/stream_executor/cuda/cuda_gpu_executor.cc:937] successful NUMA node read from SysFS had negative value (-1), but there must be at least one NUMA node, so returning NUMA node zero\n",
      "2024-03-18 18:32:56.705323: I tensorflow/stream_executor/cuda/cuda_gpu_executor.cc:937] successful NUMA node read from SysFS had negative value (-1), but there must be at least one NUMA node, so returning NUMA node zero\n",
      "2024-03-18 18:32:56.705621: I tensorflow/core/common_runtime/gpu/gpu_device.cc:1871] Adding visible gpu devices: 0\n",
      "2024-03-18 18:32:56.706126: I tensorflow/core/platform/cpu_feature_guard.cc:142] This TensorFlow binary is optimized with oneAPI Deep Neural Network Library (oneDNN) to use the following CPU instructions in performance-critical operations:  AVX2 FMA\n",
      "To enable them in other operations, rebuild TensorFlow with the appropriate compiler flags.\n",
      "2024-03-18 18:32:56.706444: I tensorflow/stream_executor/cuda/cuda_gpu_executor.cc:937] successful NUMA node read from SysFS had negative value (-1), but there must be at least one NUMA node, so returning NUMA node zero\n",
      "2024-03-18 18:32:56.706570: I tensorflow/core/common_runtime/gpu/gpu_device.cc:1733] Found device 0 with properties: \n",
      "pciBusID: 0000:01:00.0 name: NVIDIA GeForce GTX 1060 6GB computeCapability: 6.1\n",
      "coreClock: 1.7335GHz coreCount: 10 deviceMemorySize: 5.93GiB deviceMemoryBandwidth: 178.99GiB/s\n",
      "2024-03-18 18:32:56.706677: I tensorflow/stream_executor/cuda/cuda_gpu_executor.cc:937] successful NUMA node read from SysFS had negative value (-1), but there must be at least one NUMA node, so returning NUMA node zero\n",
      "2024-03-18 18:32:56.706827: I tensorflow/stream_executor/cuda/cuda_gpu_executor.cc:937] successful NUMA node read from SysFS had negative value (-1), but there must be at least one NUMA node, so returning NUMA node zero\n",
      "2024-03-18 18:32:56.706916: I tensorflow/core/common_runtime/gpu/gpu_device.cc:1871] Adding visible gpu devices: 0\n",
      "2024-03-18 18:32:56.707185: I tensorflow/stream_executor/platform/default/dso_loader.cc:53] Successfully opened dynamic library libcudart.so.11.0\n",
      "2024-03-18 18:32:57.458399: I tensorflow/core/common_runtime/gpu/gpu_device.cc:1258] Device interconnect StreamExecutor with strength 1 edge matrix:\n",
      "2024-03-18 18:32:57.458425: I tensorflow/core/common_runtime/gpu/gpu_device.cc:1264]      0 \n",
      "2024-03-18 18:32:57.458431: I tensorflow/core/common_runtime/gpu/gpu_device.cc:1277] 0:   N \n",
      "2024-03-18 18:32:57.458651: I tensorflow/stream_executor/cuda/cuda_gpu_executor.cc:937] successful NUMA node read from SysFS had negative value (-1), but there must be at least one NUMA node, so returning NUMA node zero\n",
      "2024-03-18 18:32:57.458912: I tensorflow/stream_executor/cuda/cuda_gpu_executor.cc:937] successful NUMA node read from SysFS had negative value (-1), but there must be at least one NUMA node, so returning NUMA node zero\n",
      "2024-03-18 18:32:57.459073: I tensorflow/stream_executor/cuda/cuda_gpu_executor.cc:937] successful NUMA node read from SysFS had negative value (-1), but there must be at least one NUMA node, so returning NUMA node zero\n",
      "2024-03-18 18:32:57.459192: I tensorflow/core/common_runtime/gpu/gpu_device.cc:1418] Created TensorFlow device (/job:localhost/replica:0/task:0/device:GPU:0 with 4756 MB memory) -> physical GPU (device: 0, name: NVIDIA GeForce GTX 1060 6GB, pci bus id: 0000:01:00.0, compute capability: 6.1)\n"
     ]
    }
   ],
   "source": [
    "input_shape = (256, 256, 3)  # Assurez-vous que cette taille est compatible avec MobileNetV2\n",
    "\n",
    "base_model = MobileNetV2(weights='imagenet', include_top=False, input_shape=input_shape)\n",
    "\n",
    "# Geler les poids du modèle pré-entraîné pour ne pas les modifier lors du premier cycle d'entraînement\n",
    "base_model.trainable = False\n"
   ]
  },
  {
   "cell_type": "raw",
   "metadata": {},
   "source": [
    "model = models.Sequential([\n",
    "    base_model,\n",
    "    layers.GlobalAveragePooling2D(),\n",
    "    layers.Dense(256, activation='relu'),\n",
    "    layers.Dropout(0.5),\n",
    "    layers.Dense(64, activation='relu'),\n",
    "    layers.Dense(1, activation='sigmoid')  # 1 classe pour la classification binaire\n",
    "])\n"
   ]
  },
  {
   "cell_type": "code",
   "execution_count": 12,
   "metadata": {},
   "outputs": [],
   "source": [
    "model = models.Sequential([\n",
    "    base_model,\n",
    "    layers.GlobalAveragePooling2D(),\n",
    "    layers.Dense(256),\n",
    "    layers.BatchNormalization(),\n",
    "    layers.Activation('relu'),\n",
    "    layers.Dropout(0.5),\n",
    "    layers.Dense(1, activation='sigmoid')\n",
    "])"
   ]
  },
  {
   "cell_type": "code",
   "execution_count": 13,
   "metadata": {},
   "outputs": [
    {
     "name": "stderr",
     "output_type": "stream",
     "text": [
      "/home/riccardo/anaconda3/envs/py39_tf250/lib/python3.9/site-packages/tensorflow/python/keras/optimizer_v2/optimizer_v2.py:374: UserWarning: The `lr` argument is deprecated, use `learning_rate` instead.\n",
      "  warnings.warn(\n"
     ]
    }
   ],
   "source": [
    "model.compile(optimizer=Adam(lr=0.0001),\n",
    "              loss='binary_crossentropy',\n",
    "              metrics=['accuracy'])"
   ]
  },
  {
   "cell_type": "code",
   "execution_count": 14,
   "metadata": {},
   "outputs": [],
   "source": [
    "from tensorflow.keras.callbacks import EarlyStopping, ReduceLROnPlateau\n",
    "\n",
    "early_stopping = EarlyStopping(monitor='val_loss', patience=10, verbose=1, mode='min', restore_best_weights=True)\n",
    "reduce_lr = ReduceLROnPlateau(monitor='val_loss', factor=0.2, patience=5, verbose=1, mode='min', min_lr=1e-6)"
   ]
  },
  {
   "cell_type": "markdown",
   "metadata": {},
   "source": [
    "Training"
   ]
  },
  {
   "cell_type": "code",
   "execution_count": 15,
   "metadata": {},
   "outputs": [
    {
     "name": "stderr",
     "output_type": "stream",
     "text": [
      "2024-03-18 18:32:58.865214: I tensorflow/stream_executor/platform/default/dso_loader.cc:53] Successfully opened dynamic library libcublas.so.11\n"
     ]
    },
    {
     "name": "stderr",
     "output_type": "stream",
     "text": [
      "2024-03-18 18:32:59.112336: I tensorflow/stream_executor/platform/default/dso_loader.cc:53] Successfully opened dynamic library libcublasLt.so.11\n",
      "2024-03-18 18:33:01.084289: I tensorflow/compiler/mlir/mlir_graph_optimization_pass.cc:176] None of the MLIR Optimization Passes are enabled (registered 2)\n",
      "2024-03-18 18:33:01.102857: I tensorflow/core/platform/profile_utils/cpu_utils.cc:114] CPU Frequency: 3399905000 Hz\n"
     ]
    },
    {
     "name": "stdout",
     "output_type": "stream",
     "text": [
      "Epoch 1/40\n"
     ]
    },
    {
     "name": "stderr",
     "output_type": "stream",
     "text": [
      "2024-03-18 18:33:04.878948: I tensorflow/stream_executor/platform/default/dso_loader.cc:53] Successfully opened dynamic library libcudnn.so.8\n",
      "2024-03-18 18:33:04.884283: I tensorflow/stream_executor/cuda/cuda_dnn.cc:359] Loaded cuDNN version 8906\n"
     ]
    },
    {
     "name": "stdout",
     "output_type": "stream",
     "text": [
      "24/24 [==============================] - 81s 3s/step - loss: 0.7186 - accuracy: 0.6122 - val_loss: 0.8427 - val_accuracy: 0.4505\n",
      "Epoch 2/40\n",
      "24/24 [==============================] - 75s 3s/step - loss: 0.5442 - accuracy: 0.7243 - val_loss: 0.7379 - val_accuracy: 0.5385\n",
      "Epoch 3/40\n",
      "24/24 [==============================] - 72s 3s/step - loss: 0.4908 - accuracy: 0.7527 - val_loss: 0.6056 - val_accuracy: 0.6593\n",
      "Epoch 4/40\n",
      "24/24 [==============================] - 72s 3s/step - loss: 0.4679 - accuracy: 0.7662 - val_loss: 0.5666 - val_accuracy: 0.7253\n",
      "Epoch 5/40\n",
      "24/24 [==============================] - 73s 3s/step - loss: 0.4138 - accuracy: 0.7986 - val_loss: 0.4727 - val_accuracy: 0.7912\n",
      "Epoch 6/40\n",
      "24/24 [==============================] - 74s 3s/step - loss: 0.4150 - accuracy: 0.8203 - val_loss: 0.4093 - val_accuracy: 0.8462\n",
      "Epoch 7/40\n",
      "24/24 [==============================] - 71s 3s/step - loss: 0.3537 - accuracy: 0.8446 - val_loss: 0.3871 - val_accuracy: 0.8516\n",
      "Epoch 8/40\n",
      "24/24 [==============================] - 71s 3s/step - loss: 0.3484 - accuracy: 0.8392 - val_loss: 0.3663 - val_accuracy: 0.8571\n",
      "Epoch 9/40\n",
      "24/24 [==============================] - 72s 3s/step - loss: 0.3389 - accuracy: 0.8595 - val_loss: 0.3468 - val_accuracy: 0.8736\n",
      "Epoch 10/40\n",
      "24/24 [==============================] - 71s 3s/step - loss: 0.3144 - accuracy: 0.8662 - val_loss: 0.3262 - val_accuracy: 0.8736\n",
      "Epoch 11/40\n",
      "24/24 [==============================] - 75s 3s/step - loss: 0.3044 - accuracy: 0.8689 - val_loss: 0.3132 - val_accuracy: 0.8846\n",
      "Epoch 12/40\n",
      "24/24 [==============================] - 70s 3s/step - loss: 0.2967 - accuracy: 0.8797 - val_loss: 0.3170 - val_accuracy: 0.8681\n",
      "Epoch 13/40\n",
      "24/24 [==============================] - 70s 3s/step - loss: 0.2901 - accuracy: 0.8824 - val_loss: 0.2914 - val_accuracy: 0.8901\n",
      "Epoch 14/40\n",
      "24/24 [==============================] - 69s 3s/step - loss: 0.2522 - accuracy: 0.9041 - val_loss: 0.2838 - val_accuracy: 0.8846\n",
      "Epoch 15/40\n",
      "24/24 [==============================] - 72s 3s/step - loss: 0.2501 - accuracy: 0.9000 - val_loss: 0.2767 - val_accuracy: 0.8846\n",
      "Epoch 16/40\n",
      "24/24 [==============================] - 72s 3s/step - loss: 0.2582 - accuracy: 0.9000 - val_loss: 0.2720 - val_accuracy: 0.8901\n",
      "Epoch 17/40\n",
      "24/24 [==============================] - 71s 3s/step - loss: 0.2515 - accuracy: 0.8973 - val_loss: 0.2707 - val_accuracy: 0.9121\n",
      "Epoch 18/40\n",
      "24/24 [==============================] - 72s 3s/step - loss: 0.2483 - accuracy: 0.8959 - val_loss: 0.2634 - val_accuracy: 0.9011\n",
      "Epoch 19/40\n",
      "24/24 [==============================] - 72s 3s/step - loss: 0.2259 - accuracy: 0.9189 - val_loss: 0.2567 - val_accuracy: 0.8901\n",
      "Epoch 20/40\n",
      "24/24 [==============================] - 72s 3s/step - loss: 0.2096 - accuracy: 0.9297 - val_loss: 0.2532 - val_accuracy: 0.8901\n",
      "Epoch 21/40\n",
      "24/24 [==============================] - 74s 3s/step - loss: 0.1924 - accuracy: 0.9338 - val_loss: 0.2517 - val_accuracy: 0.9176\n",
      "Epoch 22/40\n",
      "24/24 [==============================] - 74s 3s/step - loss: 0.1987 - accuracy: 0.9284 - val_loss: 0.2465 - val_accuracy: 0.9011\n",
      "Epoch 23/40\n",
      "24/24 [==============================] - 74s 3s/step - loss: 0.2092 - accuracy: 0.9230 - val_loss: 0.2449 - val_accuracy: 0.8956\n",
      "Epoch 24/40\n",
      "24/24 [==============================] - 73s 3s/step - loss: 0.1957 - accuracy: 0.9311 - val_loss: 0.2423 - val_accuracy: 0.9121\n",
      "Epoch 25/40\n",
      "24/24 [==============================] - 73s 3s/step - loss: 0.2056 - accuracy: 0.9257 - val_loss: 0.2345 - val_accuracy: 0.9176\n",
      "Epoch 26/40\n",
      "24/24 [==============================] - 73s 3s/step - loss: 0.1726 - accuracy: 0.9338 - val_loss: 0.2361 - val_accuracy: 0.9066\n",
      "Epoch 27/40\n",
      "24/24 [==============================] - 74s 3s/step - loss: 0.1591 - accuracy: 0.9500 - val_loss: 0.2413 - val_accuracy: 0.9176\n",
      "Epoch 28/40\n",
      "24/24 [==============================] - 74s 3s/step - loss: 0.1688 - accuracy: 0.9459 - val_loss: 0.2408 - val_accuracy: 0.9176\n",
      "Epoch 29/40\n",
      "24/24 [==============================] - 73s 3s/step - loss: 0.1758 - accuracy: 0.9257 - val_loss: 0.2576 - val_accuracy: 0.9066\n",
      "Epoch 30/40\n",
      "24/24 [==============================] - 73s 3s/step - loss: 0.1799 - accuracy: 0.9351 - val_loss: 0.2577 - val_accuracy: 0.9011\n",
      "\n",
      "Epoch 00030: ReduceLROnPlateau reducing learning rate to 1.9999999494757503e-05.\n",
      "Epoch 31/40\n",
      "24/24 [==============================] - 73s 3s/step - loss: 0.1525 - accuracy: 0.9514 - val_loss: 0.2531 - val_accuracy: 0.9121\n",
      "Epoch 32/40\n",
      "24/24 [==============================] - 73s 3s/step - loss: 0.1501 - accuracy: 0.9500 - val_loss: 0.2479 - val_accuracy: 0.9121\n",
      "Epoch 33/40\n",
      "24/24 [==============================] - 73s 3s/step - loss: 0.1651 - accuracy: 0.9432 - val_loss: 0.2450 - val_accuracy: 0.9066\n",
      "Epoch 34/40\n",
      "24/24 [==============================] - 73s 3s/step - loss: 0.1586 - accuracy: 0.9392 - val_loss: 0.2441 - val_accuracy: 0.9066\n",
      "Epoch 35/40\n",
      "24/24 [==============================] - 72s 3s/step - loss: 0.1467 - accuracy: 0.9541 - val_loss: 0.2454 - val_accuracy: 0.9066\n",
      "Restoring model weights from the end of the best epoch.\n",
      "\n",
      "Epoch 00035: ReduceLROnPlateau reducing learning rate to 3.999999898951501e-06.\n",
      "Epoch 00035: early stopping\n"
     ]
    }
   ],
   "source": [
    "history = model.fit(\n",
    "    train_generator,  # Ajustez en fonction de la taille de votre ensemble d'entraînement\n",
    "    epochs=40,\n",
    "    validation_data=validation_generator,\n",
    "    callbacks=[early_stopping, reduce_lr])"
   ]
  },
  {
   "cell_type": "code",
   "execution_count": 16,
   "metadata": {},
   "outputs": [
    {
     "data": {
      "image/png": "[encoded data removed]",
      "text/plain": [
       "<Figure size 1200x500 with 2 Axes>"
      ]
     },
     "metadata": {},
     "output_type": "display_data"
    }
   ],
   "source": [
    "    # Afficher les courbes d'entraînement\n",
    "plt.figure(figsize=(12, 5))\n",
    "\n",
    "# Affichage de la perte\n",
    "plt.subplot(1, 2, 1)\n",
    "plt.plot(history.history['loss'], label='Perte d\\'entraînement')\n",
    "plt.plot(history.history['val_loss'], label='Perte de validation')\n",
    "plt.title('Loss pendant l\\'entraînement')\n",
    "plt.xlabel('Epoch')\n",
    "plt.ylabel('Perte')\n",
    "plt.legend()\n",
    "\n",
    "# Affichage de la précision\n",
    "plt.subplot(1, 2, 2)\n",
    "plt.plot(history.history['accuracy'], label='Précision d\\'entraînement')\n",
    "plt.plot(history.history['val_accuracy'], label='Précision de validation')\n",
    "plt.title('ACC pendant l\\'entraînement')\n",
    "plt.xlabel('Epoch')\n",
    "plt.ylabel('accuracy')\n",
    "plt.legend()\n",
    "\n",
    "plt.tight_layout()\n",
    "plt.show()"
   ]
  },
  {
   "cell_type": "markdown",
   "metadata": {},
   "source": [
    "Saving model and training score "
   ]
  },
  {
   "cell_type": "code",
   "execution_count": 17,
   "metadata": {},
   "outputs": [
    {
     "name": "stderr",
     "output_type": "stream",
     "text": [
      "/home/riccardo/anaconda3/envs/py39_tf250/lib/python3.9/site-packages/tensorflow/python/keras/utils/generic_utils.py:494: CustomMaskWarning: Custom mask layers require a config and must override get_config. When loading, the custom mask layer must be passed to the custom_objects argument.\n",
      "  warnings.warn('Custom mask layers require a config and must override '\n"
     ]
    }
   ],
   "source": [
    "model.save('Class_pearl_mart_cleaned_V8_batch32_grey_865_without_lowconfV2.h5')  # Sauvegarde le modèle au format HDF5"
   ]
  },
  {
   "cell_type": "code",
   "execution_count": 18,
   "metadata": {},
   "outputs": [],
   "source": [
    "import pickle\n",
    "with open('Class_pearl_mart_cleaned_V8_batch32_grey_histo_865_without_lowconf_V2.pkl', 'wb') as f:\n",
    "    pickle.dump(history.history, f)"
   ]
  },
  {
   "cell_type": "code",
   "execution_count": 4,
   "metadata": {},
   "outputs": [],
   "source": [
    "import pickle\n",
    "with open('/home/riccardo/Visual_Studio_Code/Grain-segmentation_prjt/Models/Main_classification_model/Class_pearl_mart_cleaned_V4_batch16_grey_histo.pkl', 'rb') as f:\n",
    "    historique_charge = pickle.load(f)"
   ]
  },
  {
   "cell_type": "markdown",
   "metadata": {},
   "source": [
    "Predicting "
   ]
  },
  {
   "cell_type": "code",
   "execution_count": 40,
   "metadata": {},
   "outputs": [],
   "source": [
    "def prepare_img(img_path, target_size=(256, 256)):\n",
    "    from tensorflow.keras.preprocessing import image\n",
    "    import numpy as np\n",
    "    img = image.load_img(img_path, target_size=target_size)\n",
    "    img_array = image.img_to_array(img)\n",
    "    img_array = np.expand_dims(img_array, axis=0)\n",
    "    return img_array"
   ]
  },
  {
   "cell_type": "code",
   "execution_count": 41,
   "metadata": {},
   "outputs": [],
   "source": [
    "from tensorflow.keras.preprocessing import image\n",
    "import numpy as np\n",
    "\n",
    "def predict_class_with_confidence(model, img_path, threshold=0.5):\n",
    "    \"\"\"\n",
    "    Prédit si une image est de la classe 'Perlites' ou 'Martensites' en utilisant un modèle donné,\n",
    "    et fournit le pourcentage de confiance de cette prédiction.\n",
    "    \n",
    "    Args:\n",
    "    - model: Le modèle entraîné pour la prédiction.\n",
    "    - img_path (str): Le chemin vers l'image à prédire.\n",
    "    - threshold (float): Le seuil pour décider de la classe.\n",
    "    \n",
    "    Returns:\n",
    "    - tuple: La prédiction de la classe ('Perlites' ou 'Martensites') et le pourcentage de confiance.\n",
    "    \"\"\"\n",
    "    # Chargement et prétraitement de l'image\n",
    "    img = image.load_img(img_path, target_size=(256, 256))\n",
    "    img_array = image.img_to_array(img)\n",
    "    img_array = np.expand_dims(img_array, axis=0)  # Convertit l'image en un batch de taille 1\n",
    "        \n",
    "    # Faire la prédiction\n",
    "    prediction = model.predict(img_array)\n",
    "    confidence = prediction[0][0]  # Obtient la confiance de la prédiction\n",
    "    \n",
    "    # Interpréter la prédiction\n",
    "    predicted_class = 'Perlites' if confidence >= threshold else 'Martensites'\n",
    "    confidence_percentage = confidence * 100 if predicted_class == 'Perlites' else (1 - confidence) * 100\n",
    "    \n",
    "    return predicted_class, confidence_percentage"
   ]
  },
  {
   "cell_type": "code",
   "execution_count": 42,
   "metadata": {},
   "outputs": [
    {
     "name": "stdout",
     "output_type": "stream",
     "text": [
      "Classe prédite : Perlites avec 88.85% de confiance\n"
     ]
    }
   ],
   "source": [
    "# Exemple d'utilisation\n",
    "img_path = '/home/riccardo/Visual_Studio_Code/Grain-segmentation_prjt/Dataset_Structures_modes/ImageDataGen_1300img/train/Pearlite/2-Figure1-1 (3)_cropped_1.png'\n",
    "predicted_class, confidence = predict_class_with_confidence(model, img_path, threshold=0.5)\n",
    "print(f\"Classe prédite : {predicted_class} avec {confidence:.2f}% de confiance\")"
   ]
  }
 ],
 "metadata": {
  "kernelspec": {
   "display_name": "py39_tf250",
   "language": "python",
   "name": "python3"
  },
  "language_info": {
   "codemirror_mode": {
    "name": "ipython",
    "version": 3
   },
   "file_extension": ".py",
   "mimetype": "text/x-python",
   "name": "python",
   "nbconvert_exporter": "python",
   "pygments_lexer": "ipython3",
   "version": "3.9.18"
  }
 },
 "nbformat": 4,
 "nbformat_minor": 2
}
