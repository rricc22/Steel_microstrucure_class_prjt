{
 "cells": [
  {
   "cell_type": "markdown",
   "metadata": {},
   "source": [
    "Predicting "
   ]
  },
  {
   "cell_type": "code",
   "execution_count": 79,
   "metadata": {},
   "outputs": [],
   "source": [
    "def prepare_img(img_path, target_size=(256, 256)):\n",
    "    from tensorflow.keras.preprocessing import image\n",
    "    import numpy as np\n",
    "    img = image.load_img(img_path, target_size=target_size)\n",
    "    img_array = image.img_to_array(img)\n",
    "    img_array = np.expand_dims(img_array, axis=0)\n",
    "    return img_array"
   ]
  },
  {
   "cell_type": "code",
   "execution_count": 80,
   "metadata": {},
   "outputs": [],
   "source": [
    "from tensorflow.keras.preprocessing import image\n",
    "import numpy as np\n",
    "\n",
    "def predict_class_with_confidence(model, img_path, threshold=0.5):\n",
    "    \"\"\"\n",
    "    Prédit si une image est de la classe 'Perlites' ou 'Martensites' en utilisant un modèle donné,\n",
    "    et fournit le pourcentage de confiance de cette prédiction.\n",
    "    \n",
    "    Args:\n",
    "    - model: Le modèle entraîné pour la prédiction.\n",
    "    - img_path (str): Le chemin vers l'image à prédire.\n",
    "    - threshold (float): Le seuil pour décider de la classe.\n",
    "    \n",
    "    Returns:\n",
    "    - tuple: La prédiction de la classe ('Perlites' ou 'Martensites') et le pourcentage de confiance.\n",
    "    \"\"\"\n",
    "    # Chargement et prétraitement de l'image\n",
    "    img = image.load_img(img_path, target_size=(256, 256))\n",
    "    img_array = image.img_to_array(img)\n",
    "    img_array = np.expand_dims(img_array, axis=0)  # Convertit l'image en un batch de taille 1\n",
    "        \n",
    "    # Faire la prédiction\n",
    "    prediction = model.predict(img_array)\n",
    "    confidence = prediction[0][0]  # Obtient la confiance de la prédiction\n",
    "    \n",
    "    # Interpréter la prédiction\n",
    "    predicted_class = 'Perlites' if confidence >= threshold else 'Martensites'\n",
    "    confidence_percentage = confidence * 100 if predicted_class == 'Perlites' else (1 - confidence) * 100\n",
    "    \n",
    "    return predicted_class, confidence_percentage"
   ]
  },
  {
   "cell_type": "code",
   "execution_count": null,
   "metadata": {},
   "outputs": [],
   "source": [
    "# Exemple d'utilisation\n",
    "img_path = '/home/riccardo/Documents/AI_work_3/Prt_03.2024/Grain-segmentation_prjt/Dataset/ImageDataGen_825_cleaned/test/Martensite_microstructure_img_cropped_V3_manualy_cleaned_yolo/download (25)_cropped_0.png'\n",
    "predicted_class, confidence = predict_class_with_confidence(model, img_path, threshold=0.5)\n",
    "print(f\"Classe prédite : {predicted_class} avec {confidence:.2f}% de confiance\")"
   ]
  },
  {
   "cell_type": "markdown",
   "metadata": {},
   "source": [
    "Prediction on test-set"
   ]
  },
  {
   "cell_type": "code",
   "execution_count": 1,
   "metadata": {},
   "outputs": [
    {
     "name": "stderr",
     "output_type": "stream",
     "text": [
      "2024-03-21 13:33:19.174961: I tensorflow/tsl/cuda/cudart_stub.cc:28] Could not find cuda drivers on your machine, GPU will not be used.\n",
      "2024-03-21 13:33:19.216209: I tensorflow/tsl/cuda/cudart_stub.cc:28] Could not find cuda drivers on your machine, GPU will not be used.\n",
      "2024-03-21 13:33:19.216732: I tensorflow/core/platform/cpu_feature_guard.cc:182] This TensorFlow binary is optimized to use available CPU instructions in performance-critical operations.\n",
      "To enable the following instructions: AVX2 FMA, in other operations, rebuild TensorFlow with the appropriate compiler flags.\n",
      "2024-03-21 13:33:20.045316: W tensorflow/compiler/tf2tensorrt/utils/py_utils.cc:38] TF-TRT Warning: Could not find TensorRT\n"
     ]
    }
   ],
   "source": [
    "import numpy as np\n",
    "import tensorflow as tf\n",
    "from tensorflow.keras.preprocessing.image import ImageDataGenerator\n",
    "from sklearn.metrics import classification_report, confusion_matrix, accuracy_score\n",
    "import itertools\n",
    "import matplotlib.pyplot as plt"
   ]
  },
  {
   "cell_type": "code",
   "execution_count": 6,
   "metadata": {},
   "outputs": [],
   "source": [
    "def preprocess_image_grayscale(img):\n",
    "    \"\"\"Convertit une image RGB en niveaux de gris et la duplique sur 3 canaux.\"\"\"\n",
    "    img = tf.image.rgb_to_grayscale(img)\n",
    "    img = tf.image.grayscale_to_rgb(img)\n",
    "    return img"
   ]
  },
  {
   "cell_type": "code",
   "execution_count": 3,
   "metadata": {},
   "outputs": [
    {
     "name": "stdout",
     "output_type": "stream",
     "text": [
      "Found 52 images belonging to 2 classes.\n"
     ]
    }
   ],
   "source": [
    "# Chemin vers votre dossier de test\n",
    "test_dir = '/home/riccardo/Documents/AI_work_3/Prt_03.2024/Grain-segmentation_prjt/Dataset/ImageDataGen_825_cleaned/test'\n",
    "\n",
    "# Paramètres\n",
    "batch_size = 32\n",
    "target_size = (256, 256)\n",
    "\n",
    "# Préparation des données de test\n",
    "test_datagen = ImageDataGenerator(preprocessing_function=preprocess_image_grayscale)\n",
    "test_generator = test_datagen.flow_from_directory(\n",
    "    test_dir,\n",
    "    target_size=target_size,\n",
    "    batch_size=batch_size,\n",
    "    class_mode='binary',\n",
    "    shuffle=False)  # Important pour garder les étiquettes dans le bon ordre"
   ]
  },
  {
   "cell_type": "code",
   "execution_count": 4,
   "metadata": {},
   "outputs": [],
   "source": [
    "# Chargement du modèle\n",
    "model = tf.keras.models.load_model('/home/riccardo/Documents/AI_work_3/Prt_03.2024/Grain-segmentation_prjt/Models/Main_classification_model/Class_pearl_mart_cleaned_V7_batch32_grey_865_without_lowconf.h5')"
   ]
  },
  {
   "cell_type": "code",
   "execution_count": 7,
   "metadata": {},
   "outputs": [
    {
     "name": "stdout",
     "output_type": "stream",
     "text": [
      "2/2 [==============================] - 3s 395ms/step\n",
      "Accuracy sur l'ensemble de test: 0.8461538461538461\n",
      "Matrice de confusion :\n",
      "[[17  3]\n",
      " [ 5 27]]\n",
      "Rapport de classification :\n",
      "                                                               precision    recall  f1-score   support\n",
      "\n",
      "Martensite_microstructure_img_cropped_V3_manualy_cleaned_yolo       0.77      0.85      0.81        20\n",
      "          pearlite_microstructure_img_cropped_V3_cleaned_yolo       0.90      0.84      0.87        32\n",
      "\n",
      "                                                     accuracy                           0.85        52\n",
      "                                                    macro avg       0.84      0.85      0.84        52\n",
      "                                                 weighted avg       0.85      0.85      0.85        52\n",
      "\n",
      "Les images mal prédites ont été enregistrées dans le fichier 'images_mal_predites.txt'.\n"
     ]
    }
   ],
   "source": [
    "predictions = model.predict(test_generator, steps=np.ceil(test_generator.samples/test_generator.batch_size), verbose=1)\n",
    "predicted_classes = np.where(predictions > 0.5, 1, 0).reshape(-1)  # Seuil de 0.5 pour classification binaire\n",
    "\n",
    "# Vrais labels\n",
    "true_classes = test_generator.classes\n",
    "\n",
    "# Noms des fichiers dans l'ensemble de test\n",
    "filenames = test_generator.filenames\n",
    "\n",
    "# Erreurs de prédiction\n",
    "errors = np.where(predicted_classes != true_classes)[0]\n",
    "\n",
    "# Noms des fichiers mal prédits\n",
    "error_files = [filenames[i] for i in errors]\n",
    "\n",
    "accuracy = accuracy_score(true_classes, predicted_classes)\n",
    "conf_matrix = confusion_matrix(true_classes, predicted_classes)\n",
    "class_report = classification_report(true_classes, predicted_classes, target_names=test_generator.class_indices)\n",
    "\n",
    "print(\"Accuracy sur l'ensemble de test:\", accuracy_score(true_classes, predicted_classes))\n",
    "print(\"Matrice de confusion :\")\n",
    "print(conf_matrix)\n",
    "print(\"Rapport de classification :\")\n",
    "print(classification_report(true_classes, predicted_classes, target_names=list(test_generator.class_indices)))\n",
    "\n",
    "# Afficher les fichiers mal prédits\n",
    "# print(\"Images mal prédites :\")\n",
    "# for error_file in error_files:\n",
    "#     print(error_file)\n",
    "\n",
    "# Écrire les fichiers mal prédits dans un fichier texte\n",
    "with open('images_mal_predites.txt', 'w') as f:\n",
    "    for error_file in error_files:\n",
    "        f.write(error_file + '\\n')\n",
    "\n",
    "print(f\"Les images mal prédites ont été enregistrées dans le fichier 'images_mal_predites.txt'.\")"
   ]
  },
  {
   "cell_type": "markdown",
   "metadata": {},
   "source": [
    "Matrice de confusion PLOT "
   ]
  },
  {
   "cell_type": "code",
   "execution_count": null,
   "metadata": {},
   "outputs": [],
   "source": [
    "def plot_confusion_matrix(cm, classes,\n",
    "                          normalize=False,\n",
    "                          title='Matrice de confusion',\n",
    "                          cmap=plt.cm.Blues):\n",
    "    \"\"\"\n",
    "    Cette fonction affiche la matrice de confusion.\n",
    "    La normalisation peut être appliquée en réglant `normalize=True`.\n",
    "    Les étiquettes des classes sont tronquées à 15 caractères pour améliorer la lisibilité.\n",
    "    \"\"\"\n",
    "    if normalize:\n",
    "        cm = cm.astype('float') / cm.sum(axis=1)[:, np.newaxis]\n",
    "\n",
    "    plt.figure(figsize=(10, 8))\n",
    "    plt.imshow(cm, interpolation='nearest', cmap=cmap)\n",
    "    plt.title(title)\n",
    "    plt.colorbar()\n",
    "\n",
    "    # Tronquer les noms de classes à 15 caractères\n",
    "    truncated_classes = [cls[:15] + '...' if len(cls) > 15 else cls for cls in classes]\n",
    "    tick_marks = np.arange(len(truncated_classes))\n",
    "\n",
    "    plt.xticks(tick_marks, truncated_classes, rotation=45, ha='right')\n",
    "    plt.yticks(tick_marks, truncated_classes)\n",
    "\n",
    "    thresh = cm.max() / 2.\n",
    "    for i, j in itertools.product(range(cm.shape[0]), range(cm.shape[1])):\n",
    "        plt.text(j, i, format(cm[i, j], '.2f') if normalize else int(cm[i, j]),\n",
    "                 horizontalalignment=\"center\",\n",
    "                 color=\"white\" if cm[i, j] > thresh else \"black\")\n",
    "\n",
    "    plt.ylabel('Vrai label')\n",
    "    plt.xlabel('Label prédit')\n",
    "    plt.tight_layout()\n",
    "    plt.show()\n"
   ]
  },
  {
   "cell_type": "code",
   "execution_count": null,
   "metadata": {},
   "outputs": [
    {
     "data": {
      "text/plain": [
       "<Figure size 640x480 with 0 Axes>"
      ]
     },
     "metadata": {},
     "output_type": "display_data"
    },
    {
     "data": {
      "image/png": "[encoded data removed]",
      "text/plain": [
       "<Figure size 1000x800 with 2 Axes>"
      ]
     },
     "metadata": {},
     "output_type": "display_data"
    }
   ],
   "source": [
    "# Afficher la matrice de confusion\n",
    "plt.figure()\n",
    "plot_confusion_matrix(conf_matrix, classes=list(test_generator.class_indices.keys()), title='Matrice de confusion')\n",
    "plt.show()"
   ]
  },
  {
   "cell_type": "markdown",
   "metadata": {},
   "source": [
    "Pytorch prediction on test set"
   ]
  },
  {
   "cell_type": "code",
   "execution_count": 64,
   "metadata": {},
   "outputs": [],
   "source": [
    "from ultralytics import YOLO"
   ]
  },
  {
   "cell_type": "markdown",
   "metadata": {},
   "source": [
    "on passe ImageDataGenerator en premier pour garder le même ordres "
   ]
  },
  {
   "cell_type": "code",
   "execution_count": 65,
   "metadata": {},
   "outputs": [
    {
     "name": "stdout",
     "output_type": "stream",
     "text": [
      "Found 52 images belonging to 2 classes.\n"
     ]
    }
   ],
   "source": [
    "def preprocess_image_grayscale(img):\n",
    "    \"\"\"Convertit une image RGB en niveaux de gris et la duplique sur 3 canaux.\"\"\"\n",
    "    img = tf.image.rgb_to_grayscale(img)\n",
    "    img = tf.image.grayscale_to_rgb(img)\n",
    "    return img\n",
    "\n",
    "\n",
    "# Chemin vers votre dossier de test\n",
    "test_dir = '/home/riccardo/Documents/AI_work_3/Prt_03.2024/Grain-segmentation_prjt/Dataset/ImageDataGen_825_cleaned/test'\n",
    "\n",
    "# Paramètres\n",
    "batch_size = 32\n",
    "target_size = (224, 224)\n",
    "\n",
    "# Préparation des données de test\n",
    "test_datagen = ImageDataGenerator(preprocessing_function=preprocess_image_grayscale)\n",
    "test_generator = test_datagen.flow_from_directory(\n",
    "    test_dir,\n",
    "    target_size=target_size,\n",
    "    batch_size=batch_size,\n",
    "    class_mode='binary',\n",
    "    shuffle=False)  # Important pour garder les étiquettes dans le bon ordre"
   ]
  },
  {
   "cell_type": "markdown",
   "metadata": {},
   "source": [
    "on extrait l'ordre de imagedatagenerator"
   ]
  },
  {
   "cell_type": "code",
   "execution_count": 66,
   "metadata": {},
   "outputs": [],
   "source": [
    "import os\n",
    "# Après avoir créé `test_generator` avec `flow_from_directory`\n",
    "image_paths = test_generator.filenames\n",
    "\n",
    "# Liste pour stocker tous les chemins d'images trouvés\n",
    "list_img_path = []\n",
    "\n",
    "# Afficher les chemins complets\n",
    "full_paths = [os.path.join(test_dir, path) for path in image_paths]\n",
    "for path in full_paths:\n",
    "    # print(path)\n",
    "    list_img_path.append(path)"
   ]
  },
  {
   "cell_type": "code",
   "execution_count": 67,
   "metadata": {},
   "outputs": [],
   "source": [
    "# Load a model\n",
    "model = YOLO('/home/riccardo/Documents/AI_work_3/Prt_03.2024/Grain-segmentation_prjt/Models/Main_classification_model/yolo_class_training_865img/best.pt')  # pretrained YOLOv8n model\n",
    "\n",
    "# OR define a recursive glob search for all JPG files including subdirectories\n",
    "# source = '/home/riccardo/Visual_Studio_Code/Grain-segmentation_prjt/Dataset_Structures_modes/ImageDataGen_825_cleaned/test/**/*.png'"
   ]
  },
  {
   "cell_type": "code",
   "execution_count": 73,
   "metadata": {},
   "outputs": [
    {
     "name": "stdout",
     "output_type": "stream",
     "text": [
      "\n",
      "0: 224x224 Martensite_microstructure_img_cropped_V3_manualy_cleaned_yolo 1.00, pearlite_microstructure_img_cropped_V3_cleaned_yolo 0.00, 1: 224x224 Martensite_microstructure_img_cropped_V3_manualy_cleaned_yolo 1.00, pearlite_microstructure_img_cropped_V3_cleaned_yolo 0.00, 2: 224x224 Martensite_microstructure_img_cropped_V3_manualy_cleaned_yolo 1.00, pearlite_microstructure_img_cropped_V3_cleaned_yolo 0.00, 3: 224x224 Martensite_microstructure_img_cropped_V3_manualy_cleaned_yolo 0.97, pearlite_microstructure_img_cropped_V3_cleaned_yolo 0.03, 4: 224x224 Martensite_microstructure_img_cropped_V3_manualy_cleaned_yolo 1.00, pearlite_microstructure_img_cropped_V3_cleaned_yolo 0.00, 5: 224x224 Martensite_microstructure_img_cropped_V3_manualy_cleaned_yolo 0.98, pearlite_microstructure_img_cropped_V3_cleaned_yolo 0.02, 6: 224x224 Martensite_microstructure_img_cropped_V3_manualy_cleaned_yolo 1.00, pearlite_microstructure_img_cropped_V3_cleaned_yolo 0.00, 7: 224x224 Martensite_microstructure_img_cropped_V3_manualy_cleaned_yolo 1.00, pearlite_microstructure_img_cropped_V3_cleaned_yolo 0.00, 8: 224x224 Martensite_microstructure_img_cropped_V3_manualy_cleaned_yolo 1.00, pearlite_microstructure_img_cropped_V3_cleaned_yolo 0.00, 9: 224x224 Martensite_microstructure_img_cropped_V3_manualy_cleaned_yolo 1.00, pearlite_microstructure_img_cropped_V3_cleaned_yolo 0.00, 10: 224x224 Martensite_microstructure_img_cropped_V3_manualy_cleaned_yolo 0.92, pearlite_microstructure_img_cropped_V3_cleaned_yolo 0.08, 11: 224x224 Martensite_microstructure_img_cropped_V3_manualy_cleaned_yolo 1.00, pearlite_microstructure_img_cropped_V3_cleaned_yolo 0.00, 12: 224x224 Martensite_microstructure_img_cropped_V3_manualy_cleaned_yolo 1.00, pearlite_microstructure_img_cropped_V3_cleaned_yolo 0.00, 13: 224x224 Martensite_microstructure_img_cropped_V3_manualy_cleaned_yolo 1.00, pearlite_microstructure_img_cropped_V3_cleaned_yolo 0.00, 14: 224x224 Martensite_microstructure_img_cropped_V3_manualy_cleaned_yolo 1.00, pearlite_microstructure_img_cropped_V3_cleaned_yolo 0.00, 15: 224x224 Martensite_microstructure_img_cropped_V3_manualy_cleaned_yolo 1.00, pearlite_microstructure_img_cropped_V3_cleaned_yolo 0.00, 16: 224x224 Martensite_microstructure_img_cropped_V3_manualy_cleaned_yolo 0.99, pearlite_microstructure_img_cropped_V3_cleaned_yolo 0.01, 17: 224x224 Martensite_microstructure_img_cropped_V3_manualy_cleaned_yolo 1.00, pearlite_microstructure_img_cropped_V3_cleaned_yolo 0.00, 18: 224x224 Martensite_microstructure_img_cropped_V3_manualy_cleaned_yolo 1.00, pearlite_microstructure_img_cropped_V3_cleaned_yolo 0.00, 19: 224x224 Martensite_microstructure_img_cropped_V3_manualy_cleaned_yolo 1.00, pearlite_microstructure_img_cropped_V3_cleaned_yolo 0.00, 20: 224x224 pearlite_microstructure_img_cropped_V3_cleaned_yolo 1.00, Martensite_microstructure_img_cropped_V3_manualy_cleaned_yolo 0.00, 21: 224x224 pearlite_microstructure_img_cropped_V3_cleaned_yolo 1.00, Martensite_microstructure_img_cropped_V3_manualy_cleaned_yolo 0.00, 22: 224x224 pearlite_microstructure_img_cropped_V3_cleaned_yolo 0.98, Martensite_microstructure_img_cropped_V3_manualy_cleaned_yolo 0.02, 23: 224x224 pearlite_microstructure_img_cropped_V3_cleaned_yolo 0.99, Martensite_microstructure_img_cropped_V3_manualy_cleaned_yolo 0.01, 24: 224x224 pearlite_microstructure_img_cropped_V3_cleaned_yolo 1.00, Martensite_microstructure_img_cropped_V3_manualy_cleaned_yolo 0.00, 25: 224x224 pearlite_microstructure_img_cropped_V3_cleaned_yolo 0.98, Martensite_microstructure_img_cropped_V3_manualy_cleaned_yolo 0.02, 26: 224x224 pearlite_microstructure_img_cropped_V3_cleaned_yolo 0.55, Martensite_microstructure_img_cropped_V3_manualy_cleaned_yolo 0.45, 27: 224x224 pearlite_microstructure_img_cropped_V3_cleaned_yolo 1.00, Martensite_microstructure_img_cropped_V3_manualy_cleaned_yolo 0.00, 28: 224x224 pearlite_microstructure_img_cropped_V3_cleaned_yolo 1.00, Martensite_microstructure_img_cropped_V3_manualy_cleaned_yolo 0.00, 29: 224x224 pearlite_microstructure_img_cropped_V3_cleaned_yolo 1.00, Martensite_microstructure_img_cropped_V3_manualy_cleaned_yolo 0.00, 30: 224x224 pearlite_microstructure_img_cropped_V3_cleaned_yolo 1.00, Martensite_microstructure_img_cropped_V3_manualy_cleaned_yolo 0.00, 31: 224x224 pearlite_microstructure_img_cropped_V3_cleaned_yolo 1.00, Martensite_microstructure_img_cropped_V3_manualy_cleaned_yolo 0.00, 32: 224x224 pearlite_microstructure_img_cropped_V3_cleaned_yolo 1.00, Martensite_microstructure_img_cropped_V3_manualy_cleaned_yolo 0.00, 33: 224x224 pearlite_microstructure_img_cropped_V3_cleaned_yolo 1.00, Martensite_microstructure_img_cropped_V3_manualy_cleaned_yolo 0.00, 34: 224x224 pearlite_microstructure_img_cropped_V3_cleaned_yolo 1.00, Martensite_microstructure_img_cropped_V3_manualy_cleaned_yolo 0.00, 35: 224x224 pearlite_microstructure_img_cropped_V3_cleaned_yolo 1.00, Martensite_microstructure_img_cropped_V3_manualy_cleaned_yolo 0.00, 36: 224x224 pearlite_microstructure_img_cropped_V3_cleaned_yolo 1.00, Martensite_microstructure_img_cropped_V3_manualy_cleaned_yolo 0.00, 37: 224x224 pearlite_microstructure_img_cropped_V3_cleaned_yolo 1.00, Martensite_microstructure_img_cropped_V3_manualy_cleaned_yolo 0.00, 38: 224x224 pearlite_microstructure_img_cropped_V3_cleaned_yolo 1.00, Martensite_microstructure_img_cropped_V3_manualy_cleaned_yolo 0.00, 39: 224x224 pearlite_microstructure_img_cropped_V3_cleaned_yolo 0.99, Martensite_microstructure_img_cropped_V3_manualy_cleaned_yolo 0.01, 40: 224x224 pearlite_microstructure_img_cropped_V3_cleaned_yolo 1.00, Martensite_microstructure_img_cropped_V3_manualy_cleaned_yolo 0.00, 41: 224x224 pearlite_microstructure_img_cropped_V3_cleaned_yolo 1.00, Martensite_microstructure_img_cropped_V3_manualy_cleaned_yolo 0.00, 42: 224x224 pearlite_microstructure_img_cropped_V3_cleaned_yolo 1.00, Martensite_microstructure_img_cropped_V3_manualy_cleaned_yolo 0.00, 43: 224x224 pearlite_microstructure_img_cropped_V3_cleaned_yolo 0.87, Martensite_microstructure_img_cropped_V3_manualy_cleaned_yolo 0.13, 44: 224x224 pearlite_microstructure_img_cropped_V3_cleaned_yolo 1.00, Martensite_microstructure_img_cropped_V3_manualy_cleaned_yolo 0.00, 45: 224x224 pearlite_microstructure_img_cropped_V3_cleaned_yolo 1.00, Martensite_microstructure_img_cropped_V3_manualy_cleaned_yolo 0.00, 46: 224x224 pearlite_microstructure_img_cropped_V3_cleaned_yolo 0.67, Martensite_microstructure_img_cropped_V3_manualy_cleaned_yolo 0.33, 47: 224x224 pearlite_microstructure_img_cropped_V3_cleaned_yolo 1.00, Martensite_microstructure_img_cropped_V3_manualy_cleaned_yolo 0.00, 48: 224x224 pearlite_microstructure_img_cropped_V3_cleaned_yolo 1.00, Martensite_microstructure_img_cropped_V3_manualy_cleaned_yolo 0.00, 49: 224x224 pearlite_microstructure_img_cropped_V3_cleaned_yolo 0.95, Martensite_microstructure_img_cropped_V3_manualy_cleaned_yolo 0.05, 50: 224x224 pearlite_microstructure_img_cropped_V3_cleaned_yolo 1.00, Martensite_microstructure_img_cropped_V3_manualy_cleaned_yolo 0.00, 51: 224x224 pearlite_microstructure_img_cropped_V3_cleaned_yolo 1.00, Martensite_microstructure_img_cropped_V3_manualy_cleaned_yolo 0.00, 282.0ms\n",
      "Speed: 6.7ms preprocess, 5.4ms inference, 0.0ms postprocess per image at shape (1, 3, 224, 224)\n"
     ]
    }
   ],
   "source": [
    "results = model(list_img_path)"
   ]
  },
  {
   "cell_type": "code",
   "execution_count": 74,
   "metadata": {},
   "outputs": [],
   "source": [
    "# Utiliser la méthode top1 pour obtenir directement les labels prédits\n",
    "predicted_classes = [result.probs.top1 for result in results]"
   ]
  },
  {
   "cell_type": "markdown",
   "metadata": {},
   "source": [
    "Extraire l'ordre que ImageDataGenerator genere "
   ]
  },
  {
   "cell_type": "code",
   "execution_count": 70,
   "metadata": {},
   "outputs": [],
   "source": [
    "# Extraire les étiquettes réelles à partir du test_generator\n",
    "true_classes = test_generator.classes"
   ]
  },
  {
   "cell_type": "code",
   "execution_count": 78,
   "metadata": {},
   "outputs": [],
   "source": [
    "# true_classes"
   ]
  },
  {
   "cell_type": "code",
   "execution_count": 76,
   "metadata": {},
   "outputs": [
    {
     "name": "stdout",
     "output_type": "stream",
     "text": [
      "Matrice de confusion :\n",
      "[[20  0]\n",
      " [ 0 32]]\n"
     ]
    }
   ],
   "source": [
    "from sklearn.metrics import confusion_matrix\n",
    "\n",
    "\n",
    "# Calcul de la matrice de confusion\n",
    "conf_matrix = confusion_matrix(true_classes, predicted_classes)\n",
    "\n",
    "print(\"Matrice de confusion :\")\n",
    "print(conf_matrix)"
   ]
  },
  {
   "cell_type": "code",
   "execution_count": 77,
   "metadata": {},
   "outputs": [
    {
     "name": "stdout",
     "output_type": "stream",
     "text": [
      "Accuracy: 100.00%\n"
     ]
    }
   ],
   "source": [
    "from sklearn.metrics import accuracy_score\n",
    "\n",
    "# Calcul de l'accuracy\n",
    "accuracy = accuracy_score(true_classes, predicted_classes)\n",
    "\n",
    "print(f\"Accuracy: {accuracy * 100:.2f}%\")\n"
   ]
  },
  {
   "cell_type": "markdown",
   "metadata": {},
   "source": [
    "construiction d'un csv qui contient tou les chemin "
   ]
  },
  {
   "cell_type": "code",
   "execution_count": null,
   "metadata": {},
   "outputs": [
    {
     "name": "stdout",
     "output_type": "stream",
     "text": [
      "52 image paths have been written to image_paths.csv\n"
     ]
    }
   ],
   "source": [
    "import glob\n",
    "import csv\n",
    "\n",
    "# Définir le chemin source avec le motif de recherche\n",
    "source = '/home/riccardo/Documents/AI_work_3/Prt_03.2024/Grain-segmentation_prjt/Dataset/ImageDataGen_825_cleaned/test/**/*.png'\n",
    "\n",
    "# Utiliser glob pour trouver tous les fichiers qui correspondent au motif\n",
    "image_paths = glob.glob(source, recursive=True)\n",
    "\n",
    "# Nom du fichier CSV de sortie\n",
    "csv_file = 'image_paths.csv'\n",
    "\n",
    "# Écrire les chemins dans le fichier CSV\n",
    "with open(csv_file, 'w', newline='') as file:\n",
    "    writer = csv.writer(file)\n",
    "    writer.writerow(['Image Path'])  # En-tête de colonne\n",
    "    for path in image_paths:\n",
    "        writer.writerow([path])\n",
    "\n",
    "print(f\"{len(image_paths)} image paths have been written to {csv_file}\")\n"
   ]
  },
  {
   "cell_type": "markdown",
   "metadata": {},
   "source": [
    "On crée une liste de chemins "
   ]
  },
  {
   "cell_type": "code",
   "execution_count": null,
   "metadata": {},
   "outputs": [
    {
     "name": "stdout",
     "output_type": "stream",
     "text": [
      "Nombre de chemins d'images écrits dans le CSV : 52\n"
     ]
    }
   ],
   "source": [
    "import csv\n",
    "import glob\n",
    "\n",
    "# Chemins de recherche pour les images dans les deux dossiers\n",
    "patterns = [\n",
    "    '/home/riccardo/Documents/AI_work_3/Prt_03.2024/Grain-segmentation_prjt/Dataset/ImageDataGen_825_cleaned/test/pearlite_microstructure_img_cropped_V3_cleaned_yolo/*.png',\n",
    "    '/home/riccardo/Documents/AI_work_3/Prt_03.2024/Grain-segmentation_prjt/Dataset/ImageDataGen_825_cleaned/test/Martensite_microstructure_img_cropped_V3_manualy_cleaned_yolo/*.png'\n",
    "]\n",
    "\n",
    "# Liste pour stocker tous les chemins d'images trouvés\n",
    "image_paths = []\n",
    "\n",
    "# Chercher des images et les ajouter à la liste\n",
    "for pattern in patterns:\n",
    "    image_paths.extend(glob.glob(pattern))\n",
    "\n",
    "# Chemin du fichier CSV à générer\n",
    "csv_file_path = '/home/riccardo/Documents/AI_work_3/Prt_03.2024/Grain-segmentation_prjt/image_paths.csv'\n",
    "\n",
    "# Écrire les chemins dans un fichier CSV\n",
    "with open(csv_file_path, 'w', newline='') as csvfile:\n",
    "    writer = csv.writer(csvfile)\n",
    "    writer.writerow(['Image Path'])  # Écrire l'en-tête\n",
    "    for path in image_paths:\n",
    "        writer.writerow([path])  # Écrire chaque chemin d'image\n",
    "\n",
    "print(f\"Nombre de chemins d'images écrits dans le CSV : {len(image_paths)}\")\n"
   ]
  }
 ],
 "metadata": {
  "kernelspec": {
   "display_name": "py39_tf250",
   "language": "python",
   "name": "python3"
  },
  "language_info": {
   "codemirror_mode": {
    "name": "ipython",
    "version": 3
   },
   "file_extension": ".py",
   "mimetype": "text/x-python",
   "name": "python",
   "nbconvert_exporter": "python",
   "pygments_lexer": "ipython3",
   "version": "3.9.18"
  }
 },
 "nbformat": 4,
 "nbformat_minor": 2
}
