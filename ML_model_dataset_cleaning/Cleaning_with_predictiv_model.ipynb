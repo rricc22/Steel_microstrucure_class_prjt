{
 "cells": [
  {
   "cell_type": "markdown",
   "metadata": {},
   "source": [
    "Cleaning avec un model tensorflow"
   ]
  },
  {
   "cell_type": "code",
   "execution_count": 5,
   "metadata": {},
   "outputs": [],
   "source": [
    "import os\n",
    "import numpy as np\n",
    "import tensorflow as tf\n",
    "from tensorflow.keras.preprocessing.image import ImageDataGenerator\n",
    "import matplotlib.pyplot as plt"
   ]
  },
  {
   "cell_type": "code",
   "execution_count": 6,
   "metadata": {},
   "outputs": [],
   "source": [
    "def preprocess_image_grayscale(img):\n",
    "    \"\"\"Convertit une image RGB en niveaux de gris et la duplique sur 3 canaux.\"\"\"\n",
    "    img = tf.image.rgb_to_grayscale(img)\n",
    "    img = tf.image.grayscale_to_rgb(img)\n",
    "    return img"
   ]
  },
  {
   "cell_type": "code",
   "execution_count": 7,
   "metadata": {},
   "outputs": [],
   "source": [
    "import os\n",
    "import shutil\n",
    "import numpy as np\n",
    "import tensorflow as tf\n",
    "from tensorflow.keras.preprocessing.image import ImageDataGenerator\n",
    "\n",
    "def identify_and_move_low_confidence_images(base_dir, model, threshold, low_conf_dest):\n",
    "    datagen = ImageDataGenerator(preprocessing_function=preprocess_image_grayscale)\n",
    "    generator = datagen.flow_from_directory(\n",
    "        base_dir,\n",
    "        target_size=(256, 256),\n",
    "        batch_size=32,\n",
    "        class_mode='binary',  # ou 'categorical' si vous avez plus de 2 classes\n",
    "        shuffle=False)\n",
    "\n",
    "    # Prédictions\n",
    "    predictions = model.predict(generator, steps=np.ceil(generator.samples / batch_size))\n",
    "    predicted_confidences = predictions.squeeze()\n",
    "\n",
    "    # Ajuster la condition pour cibler les images à faible confiance\n",
    "    low_confidence_indices = np.where(\n",
    "        (predicted_confidences > 0.5 - threshold) &\n",
    "        (predicted_confidences < 0.5 + threshold)\n",
    "    )[0]\n",
    "    low_confidence_files = np.array(generator.filenames)[low_confidence_indices]\n",
    "\n",
    "    # Déplacer les images à faible confiance\n",
    "    for idx in low_confidence_indices:\n",
    "        file_path = generator.filenames[idx]\n",
    "        source_path = os.path.join(base_dir, file_path)\n",
    "        destination_path = os.path.join(low_conf_dest, file_path.split('/')[-2], file_path.split('/')[-1])  # Garde la structure Martensite/Perlite\n",
    "        os.makedirs(os.path.dirname(destination_path), exist_ok=True)\n",
    "        shutil.move(source_path, destination_path)\n",
    "        print(f\"Moved: {source_path} to {destination_path} - Confidence: {predicted_confidences[idx]:.4f}\")"
   ]
  },
  {
   "cell_type": "code",
   "execution_count": null,
   "metadata": {},
   "outputs": [],
   "source": [
    "# Paramètres\n",
    "target_size = (256, 256)\n",
    "batch_size = 32\n",
    "model_path = '/home/riccardo/Visual_Studio_Code/Grain-segmentation_prjt/Models/Main_classification_model/Class_pearl_mart_cleaned_V5_batch16_grey_365img_dataset.h5'\n",
    "base_dir = '/home/riccardo/Visual_Studio_Code/Grain-segmentation_prjt/Dataset_Structures_modes/ImageDataGen_825_cleaned/test'\n",
    "low_conf_dest = '/home/riccardo/Visual_Studio_Code/Grain-segmentation_prjt/Dataset_Structures_modes/ImageDataGen_825_cleaned_lowconf/test'\n",
    "threshold = 0.1  # Définir le seuil de faible confiance autour de 50%\n",
    "\n",
    "# Chargement du modèle\n",
    "model = tf.keras.models.load_model(model_path)\n",
    "\n",
    "# Identifier et déplacer les images à faible confiance\n",
    "identify_and_move_low_confidence_images(base_dir, model, threshold, low_conf_dest)"
   ]
  },
  {
   "cell_type": "markdown",
   "metadata": {},
   "source": [
    "Cleaning avec un model pytorch"
   ]
  },
  {
   "cell_type": "markdown",
   "metadata": {},
   "source": [
    "V1, attention si move_wrong_prediction = False, le CSV est faux, mais sinon ca marche quand même !"
   ]
  },
  {
   "cell_type": "code",
   "execution_count": 45,
   "metadata": {},
   "outputs": [],
   "source": [
    "import os\n",
    "import shutil\n",
    "import csv\n",
    "from ultralytics import YOLO\n",
    "\n",
    "def identify_and_move_low_confidence_images_yolo_to_csv(base_dir, model_path, threshold, low_conf_dest, csv_file_path, move_wrong_prediction=True):\n",
    "    # Chargement du modèle YOLO\n",
    "    model = YOLO(model_path)\n",
    "    \n",
    "    # Préparer l'entête du fichier CSV\n",
    "    with open(csv_file_path, 'a', newline='') as csvfile:\n",
    "        csvwriter = csv.writer(csvfile)\n",
    "        csvwriter.writerow(['File Name', 'Reason', 'Confidence'])\n",
    "        \n",
    "        # Définition des labels pour correspondance avec les dossiers\n",
    "        labels = {0: 'Martensite', 1: 'Pearlite'}\n",
    "        \n",
    "        # Parcourir chaque fichier image dans le dossier base\n",
    "        for root, dirs, files in os.walk(base_dir):\n",
    "            class_dir = os.path.basename(root)\n",
    "            for file in files:\n",
    "                if file.lower().endswith(('.png', '.jpg', '.jpeg')):\n",
    "                    img_path = os.path.join(root, file)\n",
    "                    \n",
    "                    # Prédiction avec YOLO\n",
    "                    det = model.predict(img_path)\n",
    "                    \n",
    "                    # Logique de prédiction et de confiance\n",
    "                    predicted_label_id = det[0].probs.top1\n",
    "                    predicted_label = labels.get(predicted_label_id, None)\n",
    "                    top_confidence = det[0].probs.top1conf\n",
    "                    reason = \"\"\n",
    "                    move_image = False\n",
    "                    \n",
    "                    if predicted_label and predicted_label.lower() != class_dir.lower() and move_wrong_prediction:\n",
    "                        reason = \"Incorrect Prediction\"\n",
    "                        move_image = True\n",
    "                    elif top_confidence < threshold:\n",
    "                        reason = \"Low Confidence\"\n",
    "                        move_image = True\n",
    "                        \n",
    "                    if move_image:\n",
    "                        # Calculer le chemin de destination\n",
    "                        destination_path = os.path.join(low_conf_dest, class_dir, file)\n",
    "                        os.makedirs(os.path.dirname(destination_path), exist_ok=True)\n",
    "                        shutil.move(img_path, destination_path)\n",
    "                        # Écrire les informations dans le fichier CSV\n",
    "                        csvwriter.writerow([file, reason, f\"{top_confidence:.4f}\"])\n",
    "                        print(f\"Moved: {file} - Reason: {reason} - Confidence: {top_confidence:.4f}\")"
   ]
  },
  {
   "cell_type": "code",
   "execution_count": 46,
   "metadata": {},
   "outputs": [],
   "source": [
    "# Paramètres\n",
    "model_path = '/home/riccardo/Visual_Studio_Code/Grain-segmentation_prjt/dataset-full/100_img_manual_dataset/yolo_model/train200/weights/best.pt'\n",
    "base_dir = '/home/riccardo/Visual_Studio_Code/Grain-segmentation_prjt/Dataset_Structures_modes/ImageDataGen_825_cleaned/train'\n",
    "low_conf_dest = '/home/riccardo/Visual_Studio_Code/Grain-segmentation_prjt/Dataset_Structures_modes/ImageDataGen_825_cleaned_lowconf/train'\n",
    "threshold = 0.85  # Ajustez ce seuil selon vos besoins\n",
    "csv_file_path = 'test.csv'  # Chemin vers le fichier de log\n",
    "move_wrong_prediction = True  # Modifiez cette valeur pour activer/désactiver le déplacement des mauvaises prédictions"
   ]
  },
  {
   "cell_type": "code",
   "execution_count": null,
   "metadata": {},
   "outputs": [],
   "source": [
    "# Appeler la fonction\n",
    "identify_and_move_low_confidence_images_yolo_to_csv(base_dir, model_path, threshold, low_conf_dest, csv_file_path, move_wrong_prediction)"
   ]
  },
  {
   "cell_type": "markdown",
   "metadata": {},
   "source": [
    "V2"
   ]
  },
  {
   "cell_type": "code",
   "execution_count": 50,
   "metadata": {},
   "outputs": [],
   "source": [
    "import os\n",
    "import shutil\n",
    "import csv\n",
    "from ultralytics import YOLO\n",
    "\n",
    "def identify_and_move_low_confidence_images_yolo_to_csv(base_dir, model_path, threshold, low_conf_dest, csv_file_path, label_to_dir_mapping, move_wrong_prediction=True):\n",
    "    # Chargement du modèle YOLO\n",
    "    model = YOLO(model_path)\n",
    "    \n",
    "    with open(csv_file_path, 'a', newline='') as csvfile:\n",
    "        csvwriter = csv.writer(csvfile)\n",
    "        if os.stat(csv_file_path).st_size == 0:\n",
    "            csvwriter.writerow(['File Name', 'Class Directory', 'Predicted Label', 'Reason', 'Confidence'])\n",
    "\n",
    "        for root, dirs, files in os.walk(base_dir):\n",
    "            class_dir = os.path.basename(root).lower()\n",
    "            for file in files:\n",
    "                if file.lower().endswith(('.png', '.jpg', '.jpeg')):\n",
    "                    img_path = os.path.join(root, file)\n",
    "                    det = model.predict(img_path)\n",
    "\n",
    "                    predicted_label_id = det[0].probs.top1\n",
    "                    predicted_label = label_to_dir_mapping.get(predicted_label_id, \"\")\n",
    "                    top_confidence = det[0].probs.top1conf\n",
    "                    reason = \"\"\n",
    "                    move_image = False\n",
    "\n",
    "                    # Vérifier si le dossier actuel correspond au label prédit\n",
    "                    if (class_dir != predicted_label.lower() and move_wrong_prediction) or top_confidence < threshold:\n",
    "                        reason = \"Incorrect Prediction\" if class_dir != predicted_label.lower() else \"Low Confidence\"\n",
    "                        move_image = True\n",
    "\n",
    "                    if move_image:\n",
    "                        destination_path = os.path.join(low_conf_dest, class_dir, file)\n",
    "                        os.makedirs(os.path.dirname(destination_path), exist_ok=True)\n",
    "                        shutil.move(img_path, destination_path)\n",
    "                        csvwriter.writerow([file, class_dir, predicted_label, reason, f\"{top_confidence:.4f}\"])\n",
    "                        print(f\"Moved: {file} - Class Directory: {class_dir} - Predicted Label: {predicted_label} - Reason: {reason} - Confidence: {top_confidence:.4f}\")"
   ]
  },
  {
   "cell_type": "code",
   "execution_count": 55,
   "metadata": {},
   "outputs": [],
   "source": [
    "# Paramètres\n",
    "model_path = '/home/riccardo/Visual_Studio_Code/Grain-segmentation_prjt/dataset-full/100_img_manual_dataset/yolo_model/train200/weights/best.pt'\n",
    "base_dir = '/home/riccardo/Visual_Studio_Code/Grain-segmentation_prjt/Dataset_Structures_modes/ImageDataGen_825_cleaned/val'\n",
    "low_conf_dest = '/home/riccardo/Visual_Studio_Code/Grain-segmentation_prjt/Dataset_Structures_modes/ImageDataGen_825_cleaned_lowconf/val'\n",
    "threshold = 0.85  # Ajustez ce seuil selon vos besoins\n",
    "csv_file_path = 'test.csv'  # Chemin vers le fichier de log\n",
    "label_to_dir_mapping = {0: 'Martensite_microstructure_img_cropped_V3_manualy_cleaned_yolo', 1: 'pearlite_microstructure_img_cropped_V3_cleaned_yolo'}\n",
    "move_wrong_prediction = True  # Modifiez cette valeur pour activer/désactiver le déplacement des mauvaises prédictions"
   ]
  },
  {
   "cell_type": "code",
   "execution_count": null,
   "metadata": {},
   "outputs": [],
   "source": [
    "identify_and_move_low_confidence_images_yolo_to_csv(base_dir, model_path, threshold, low_conf_dest, csv_file_path, label_to_dir_mapping, move_wrong_prediction)"
   ]
  },
  {
   "cell_type": "code",
   "execution_count": null,
   "metadata": {},
   "outputs": [],
   "source": []
  }
 ],
 "metadata": {
  "kernelspec": {
   "display_name": "py39_tf250",
   "language": "python",
   "name": "python3"
  },
  "language_info": {
   "codemirror_mode": {
    "name": "ipython",
    "version": 3
   },
   "file_extension": ".py",
   "mimetype": "text/x-python",
   "name": "python",
   "nbconvert_exporter": "python",
   "pygments_lexer": "ipython3",
   "version": "3.9.18"
  }
 },
 "nbformat": 4,
 "nbformat_minor": 2
}
