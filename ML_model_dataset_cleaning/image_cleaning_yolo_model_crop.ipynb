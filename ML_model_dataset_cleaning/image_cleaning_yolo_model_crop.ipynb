{
 "cells": [
  {
   "cell_type": "code",
   "execution_count": 2,
   "metadata": {},
   "outputs": [],
   "source": [
    "import os\n",
    "from PIL import Image\n",
    "from ultralytics import YOLO"
   ]
  },
  {
   "cell_type": "code",
   "execution_count": 3,
   "metadata": {},
   "outputs": [],
   "source": [
    "# Chemin vers le dossier contenant les images PNG\n",
    "input_dir = '/home/riccardo/Visual_Studio_Code/Grain-segmentation_prjt/dataset-full/Pearlite_png_upscale'\n",
    "\n",
    "# Chemin vers le dossier où vous souhaitez enregistrer les images rognées\n",
    "output_dir = '/home/riccardo/Visual_Studio_Code/Grain-segmentation_prjt/dataset-full/pearlite_microstructure_img_cropped_V2_yolo'\n",
    "\n",
    "# Créer le dossier de sortie s'il n'existe pas\n",
    "os.makedirs(output_dir, exist_ok=True)"
   ]
  },
  {
   "cell_type": "code",
   "execution_count": 4,
   "metadata": {},
   "outputs": [],
   "source": [
    "# Charger le modèle YOLO\n",
    "model = YOLO('/home/riccardo/Visual_Studio_Code/Grain-segmentation_prjt/Models/best.pt')"
   ]
  },
  {
   "cell_type": "code",
   "execution_count": null,
   "metadata": {},
   "outputs": [],
   "source": [
    "# Parcourir tous les fichiers PNG dans le dossier d'entrée\n",
    "for filename in os.listdir(input_dir):\n",
    "    if filename.endswith('.png'):\n",
    "        # Chemin complet de l'image d'entrée\n",
    "        img_path = os.path.join(input_dir, filename)\n",
    "        \n",
    "        # Prédire les boîtes englobantes et obtenir les coordonnées normalisées xyxyn\n",
    "        bbox_coordinates = model(img_path)[0].boxes.cpu().numpy().xyxyn\n",
    "        \n",
    "        # Rogner l'image autour des boîtes englobantes prédites\n",
    "        for i, bbox in enumerate(bbox_coordinates):\n",
    "            # Récupérer les coordonnées normalisées de la boîte englobante\n",
    "            x1, y1, x2, y2 = bbox\n",
    "            \n",
    "            # Charger l'image d'origine\n",
    "            img = Image.open(img_path)\n",
    "            \n",
    "            # Convertir les coordonnées normalisées en coordonnées absolues\n",
    "            img_width, img_height = img.size\n",
    "            x1_abs = int(x1 * img_width)\n",
    "            y1_abs = int(y1 * img_height)\n",
    "            x2_abs = int(x2 * img_width)\n",
    "            y2_abs = int(y2 * img_height)\n",
    "            \n",
    "            # Rogner l'image\n",
    "            cropped_img = img.crop((x1_abs, y1_abs, x2_abs, y2_abs))\n",
    "            \n",
    "            # Enregistrer l'image rognée dans le dossier de sortie\n",
    "            output_filename = f'{os.path.splitext(filename)[0]}_cropped_{i}.png'\n",
    "            cropped_img.save(os.path.join(output_dir, output_filename))"
   ]
  },
  {
   "cell_type": "markdown",
   "metadata": {},
   "source": [
    "Si Image.DecompressionBombError:"
   ]
  },
  {
   "cell_type": "code",
   "execution_count": null,
   "metadata": {},
   "outputs": [],
   "source": [
    "from PIL import Image, ImageFile\n",
    "import os\n",
    "\n",
    "# Augmente la limite de pixels pour éviter l'erreur DecompressionBombError\n",
    "Image.MAX_IMAGE_PIXELS = None  # Attention : enlever cette limite peut présenter un risque de sécurité\n",
    "\n",
    "# Chemin vers le dossier contenant les images PNG\n",
    "input_dir = '/home/riccardo/Visual_Studio_Code/Grain-segmentation_prjt/dataset-full/Martensite_V2_upscale'\n",
    "\n",
    "# Chemin vers le dossier où vous souhaitez enregistrer les images rognées\n",
    "output_dir = '/home/riccardo/Visual_Studio_Code/Grain-segmentation_prjt/dataset-full/Martensite_microstructure_img_cropped_V2_yolo'\n",
    "\n",
    "# Parcourir tous les fichiers PNG dans le dossier d'entrée\n",
    "for filename in os.listdir(input_dir):\n",
    "    if filename.endswith('.png'):\n",
    "        try:\n",
    "            # Chemin complet de l'image d'entrée\n",
    "            img_path = os.path.join(input_dir, filename)\n",
    "            \n",
    "            # Prédire les boîtes englobantes et obtenir les coordonnées normalisées xyxyn\n",
    "            bbox_coordinates = model(img_path)[0].boxes.cpu().numpy().xyxyn  # Ajustez cette ligne selon votre modèle\n",
    "\n",
    "            # Rogner l'image autour des boîtes englobantes prédites\n",
    "            for i, bbox in enumerate(bbox_coordinates):\n",
    "                # Récupérer les coordonnées normalisées de la boîte englobante\n",
    "                x1, y1, x2, y2 = bbox\n",
    "                \n",
    "                # Charger l'image d'origine\n",
    "                img = Image.open(img_path)\n",
    "                \n",
    "                # Convertir les coordonnées normalisées en coordonnées absolues\n",
    "                img_width, img_height = img.size\n",
    "                x1_abs = int(x1 * img_width)\n",
    "                y1_abs = int(y1 * img_height)\n",
    "                x2_abs = int(x2 * img_width)\n",
    "                y2_abs = int(y2 * img_height)\n",
    "                \n",
    "                # Rogner l'image\n",
    "                cropped_img = img.crop((x1_abs, y1_abs, x2_abs, y2_abs))\n",
    "                \n",
    "                # Enregistrer l'image rognée dans le dossier de sortie\n",
    "                output_filename = f'{os.path.splitext(filename)[0]}_cropped_{i}.png'\n",
    "                cropped_img.save(os.path.join(output_dir, output_filename))\n",
    "        \n",
    "        except Image.DecompressionBombError:\n",
    "            print(f\"Image '{filename}' skipped due to exceeding pixel limit.\")\n",
    "            pass  # Ignorer l'image et continuer avec la suivante"
   ]
  },
  {
   "cell_type": "code",
   "execution_count": null,
   "metadata": {},
   "outputs": [],
   "source": []
  }
 ],
 "metadata": {
  "kernelspec": {
   "display_name": "pyTorch2",
   "language": "python",
   "name": "python3"
  },
  "language_info": {
   "codemirror_mode": {
    "name": "ipython",
    "version": 3
   },
   "file_extension": ".py",
   "mimetype": "text/x-python",
   "name": "python",
   "nbconvert_exporter": "python",
   "pygments_lexer": "ipython3",
   "version": "3.10.13"
  }
 },
 "nbformat": 4,
 "nbformat_minor": 2
}
